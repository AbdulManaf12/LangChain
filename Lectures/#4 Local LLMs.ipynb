{
 "cells": [
  {
   "cell_type": "markdown",
   "id": "7c90a240",
   "metadata": {},
   "source": [
    "## DeepInfra"
   ]
  },
  {
   "cell_type": "code",
   "execution_count": null,
   "id": "57cbd783",
   "metadata": {},
   "outputs": [],
   "source": [
    "from openai import OpenAI\n",
    "\n",
    "def get_response(prompt):\n",
    "    openai = OpenAI(\n",
    "        api_key=\"\",\n",
    "        base_url=\"https://api.deepinfra.com/v1/openai\",\n",
    "    )\n",
    "    chat_completion = openai.chat.completions.create(\n",
    "        model=\"meta-llama/Llama-4-Maverick-17B-128E-Instruct-FP8\",\n",
    "        messages=[{\"role\": \"user\", \"content\": prompt}],\n",
    "    )\n",
    "    return chat_completion.choices[0].message.content"
   ]
  },
  {
   "cell_type": "code",
   "execution_count": 4,
   "id": "0ea06cf4",
   "metadata": {},
   "outputs": [
    {
     "data": {
      "text/plain": [
       "'The capital of France is Paris.'"
      ]
     },
     "execution_count": 4,
     "metadata": {},
     "output_type": "execute_result"
    }
   ],
   "source": [
    "get_response(\"What is the capital of France?\")"
   ]
  },
  {
   "cell_type": "markdown",
   "id": "813981a4",
   "metadata": {},
   "source": [
    "## Huggingface (Novita)"
   ]
  },
  {
   "cell_type": "code",
   "execution_count": null,
   "id": "ee99252e",
   "metadata": {},
   "outputs": [],
   "source": [
    "import requests\n",
    "\n",
    "def get_huggingface_response(prompt):\n",
    "    API_URL = \"https://router.huggingface.co/novita/v3/openai/chat/completions\"\n",
    "    headers = {\"Authorization\": \"Bearer hf_\"}\n",
    "    payload = {\n",
    "        \"messages\": [\n",
    "            {\n",
    "                \"role\": \"user\",\n",
    "                \"content\": prompt\n",
    "            }\n",
    "        ],\n",
    "        \"model\": \"deepseek/deepseek-v3-0324\",\n",
    "    }\n",
    "    response = requests.post(API_URL, headers=headers, json=payload)\n",
    "    return response.json()[\"choices\"][0][\"message\"]"
   ]
  },
  {
   "cell_type": "code",
   "execution_count": 9,
   "id": "d442f68a",
   "metadata": {},
   "outputs": [
    {
     "data": {
      "text/plain": [
       "'The capital of France is Paris.'"
      ]
     },
     "execution_count": 9,
     "metadata": {},
     "output_type": "execute_result"
    }
   ],
   "source": [
    "get_response(\"What is the capital of France?\")"
   ]
  },
  {
   "cell_type": "markdown",
   "id": "1629fb73",
   "metadata": {},
   "source": [
    "## Novita AI"
   ]
  },
  {
   "cell_type": "code",
   "execution_count": null,
   "id": "8bba71a1",
   "metadata": {},
   "outputs": [],
   "source": [
    "from openai import OpenAI\n",
    "\n",
    "def get_novita_response(prompt):\n",
    "    openai = OpenAI(\n",
    "        api_key=\"\", \n",
    "        base_url=\"https://api.novita.ai/v3/openai\")\n",
    "    chat_completion = openai.chat.completions.create(\n",
    "        model=\"meta-llama/llama-4-scout-17b-16e-instruct\",\n",
    "        messages=[{\"role\": \"user\", \"content\": prompt}],\n",
    "    )\n",
    "    return chat_completion.choices[0].message.content"
   ]
  },
  {
   "cell_type": "code",
   "execution_count": 13,
   "id": "e9090615",
   "metadata": {},
   "outputs": [
    {
     "data": {
      "text/plain": [
       "'The capital of France is Paris.'"
      ]
     },
     "execution_count": 13,
     "metadata": {},
     "output_type": "execute_result"
    }
   ],
   "source": [
    "get_novita_response(\"What is the capital of France?\")"
   ]
  },
  {
   "cell_type": "markdown",
   "id": "5f407374",
   "metadata": {},
   "source": [
    "## Nebius Studio"
   ]
  },
  {
   "cell_type": "code",
   "execution_count": null,
   "id": "18522967",
   "metadata": {},
   "outputs": [],
   "source": [
    "from openai import OpenAI\n",
    "\n",
    "def get_Nebius_Studio_response(prompt):\n",
    "    client = OpenAI(\n",
    "        base_url=\"https://api.studio.nebius.com/v1/\",\n",
    "        api_key=\"\"\n",
    "    )\n",
    "\n",
    "    response = client.chat.completions.create(\n",
    "        model=\"microsoft/phi-4\",\n",
    "        temperature=0,\n",
    "        messages=[\n",
    "            {\n",
    "                \"role\": \"user\",\n",
    "                \"content\": prompt\n",
    "            }\n",
    "        ]\n",
    "    )\n",
    "    return response.choices[0].message.content"
   ]
  },
  {
   "cell_type": "code",
   "execution_count": 30,
   "id": "7cf849be",
   "metadata": {},
   "outputs": [
    {
     "data": {
      "text/plain": [
       "'The capital of France is Paris.'"
      ]
     },
     "execution_count": 30,
     "metadata": {},
     "output_type": "execute_result"
    }
   ],
   "source": [
    "get_Nebius_Studio_response(\"What is the capital of France?\")"
   ]
  },
  {
   "cell_type": "markdown",
   "id": "3ce8dc5d",
   "metadata": {},
   "source": [
    "## Together AI"
   ]
  },
  {
   "cell_type": "code",
   "execution_count": null,
   "id": "0d9c3e0f",
   "metadata": {},
   "outputs": [],
   "source": [
    "from together import Together\n",
    "\n",
    "def get_together_response(prompt):\n",
    "    client = Together(api_key=\"\")\n",
    "    response = client.chat.completions.create(\n",
    "        model=\"meta-llama/Llama-4-Maverick-17B-128E-Instruct-FP8\",\n",
    "        messages=[{\"role\": \"user\", \"content\": prompt}]\n",
    "    )\n",
    "    return response.choices[0].message.content"
   ]
  },
  {
   "cell_type": "code",
   "execution_count": 35,
   "id": "7fd3be23",
   "metadata": {},
   "outputs": [
    {
     "data": {
      "text/plain": [
       "'The capital of France is Paris.'"
      ]
     },
     "execution_count": 35,
     "metadata": {},
     "output_type": "execute_result"
    }
   ],
   "source": [
    "get_together_response(\"What is the capital of France?\")"
   ]
  },
  {
   "cell_type": "code",
   "execution_count": null,
   "id": "365e5a3b",
   "metadata": {},
   "outputs": [],
   "source": [
    "import requests\n",
    "\n",
    "def get_hyperbolic_response(prompt):\n",
    "    url = \"https://api.hyperbolic.xyz/v1/chat/completions\"\n",
    "    headers = {\n",
    "        \"Content-Type\": \"application/json\",\n",
    "        \"Authorization\": \"Bearer \"\n",
    "    }\n",
    "    data = {\n",
    "        \"messages\": [{\n",
    "        \"role\": \"user\",\n",
    "        \"content\": \"What can I do in SF?\"\n",
    "        }],\n",
    "        \"model\": \"Qwen/QwQ-32B\",\n",
    "        \"max_tokens\": 1024,\n",
    "        \"temperature\": 0.6,\n",
    "        \"top_p\": 0.95\n",
    "    }\n",
    "    response = requests.post(url, headers=headers, json=data)\n",
    "    return response.json()"
   ]
  },
  {
   "cell_type": "code",
   "execution_count": 39,
   "id": "e9113b1a",
   "metadata": {},
   "outputs": [
    {
     "data": {
      "text/plain": [
       "{'detail': 'Insufficient funds, please see https://docs.hyperbolic.xyz/docs/hyperbolic-pricing'}"
      ]
     },
     "execution_count": 39,
     "metadata": {},
     "output_type": "execute_result"
    }
   ],
   "source": [
    "get_hyperbolic_response(\"What is the capital of France?\")"
   ]
  },
  {
   "cell_type": "markdown",
   "id": "6cb69e2c",
   "metadata": {},
   "source": [
    "## Sambanova"
   ]
  },
  {
   "cell_type": "code",
   "execution_count": null,
   "id": "a5f4ef8c",
   "metadata": {},
   "outputs": [],
   "source": [
    "import openai\n",
    "\n",
    "def get_sambanova_response(prompt):\n",
    "    client = openai.OpenAI(\n",
    "        api_key=\"\",\n",
    "        base_url=\"https://api.sambanova.ai/v1\",\n",
    "    )\n",
    "\n",
    "    response = client.chat.completions.create(\n",
    "        model=\"Llama-4-Maverick-17B-128E-Instruct\",\n",
    "        messages=[{\"role\":\"user\",\"content\":prompt}],\n",
    "        temperature=0.1,\n",
    "        top_p=0.1\n",
    "    )\n",
    "    return response.choices[0].message.content"
   ]
  },
  {
   "cell_type": "code",
   "execution_count": 41,
   "id": "e208e905",
   "metadata": {},
   "outputs": [
    {
     "data": {
      "text/plain": [
       "'The capital of France is Paris.'"
      ]
     },
     "execution_count": 41,
     "metadata": {},
     "output_type": "execute_result"
    }
   ],
   "source": [
    "get_sambanova_response(\"What is the capital of France?\")"
   ]
  }
 ],
 "metadata": {
  "kernelspec": {
   "display_name": "GenAI",
   "language": "python",
   "name": "python3"
  },
  "language_info": {
   "codemirror_mode": {
    "name": "ipython",
    "version": 3
   },
   "file_extension": ".py",
   "mimetype": "text/x-python",
   "name": "python",
   "nbconvert_exporter": "python",
   "pygments_lexer": "ipython3",
   "version": "3.12.8"
  }
 },
 "nbformat": 4,
 "nbformat_minor": 5
}
